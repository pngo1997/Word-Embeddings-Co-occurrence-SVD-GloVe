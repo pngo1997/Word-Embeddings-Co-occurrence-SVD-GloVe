{
  "cells": [
    {
      "cell_type": "code",
      "execution_count": null,
      "id": "053de994-8f7e-4508-8d60-2dd8b96cb09d",
      "metadata": {
        "id": "053de994-8f7e-4508-8d60-2dd8b96cb09d"
      },
      "outputs": [],
      "source": [
        "#!pip install datasets\n",
        "#!pip install scipy==1.12"
      ]
    },
    {
      "cell_type": "code",
      "execution_count": null,
      "id": "14164107-a733-47d9-bde1-2416817c1940",
      "metadata": {
        "id": "14164107-a733-47d9-bde1-2416817c1940"
      },
      "outputs": [],
      "source": [
        "#Check Python version.\n",
        "import sys\n",
        "assert sys.version_info[0] == 3\n",
        "assert sys.version_info[1] >= 8\n",
        "\n",
        "from platform import python_version\n",
        "assert int(python_version().split(\".\")[1]) >= 5, \"Please upgrade your Python version following the instructions in \\\n",
        "    the README.md file found in the same directory as this notebook. Your Python version is \" + python_version()\n",
        "\n",
        "#Word Embeddings using Genism.\n",
        "from gensim.models import KeyedVectors\n",
        "from gensim.test.utils import datapath\n",
        "#Print and plot.\n",
        "import pprint\n",
        "import matplotlib.pyplot as plt\n",
        "plt.rcParams['figure.figsize'] = [10, 5]\n",
        "\n",
        "#Load dataset.\n",
        "from datasets import load_dataset\n",
        "imdbData = load_dataset(\"stanfordnlp/imdb\")\n",
        "\n",
        "import re\n",
        "import numpy as np\n",
        "import random\n",
        "import scipy as sp\n",
        "#Dimensionality Reduction.\n",
        "from sklearn.decomposition import TruncatedSVD\n",
        "from sklearn.decomposition import PCA\n",
        "\n",
        "startToken = '<START>'\n",
        "endToken = '<END>'\n",
        "numSamples = 150\n",
        "\n",
        "np.random.seed(0)\n",
        "random.seed(0)"
      ]
    },
    {
      "cell_type": "markdown",
      "id": "c532ae17-4a31-4e35-9ecd-00b1756cf157",
      "metadata": {
        "id": "c532ae17-4a31-4e35-9ecd-00b1756cf157"
      },
      "source": [
        "### Part 1: Count-Based Word Vectors"
      ]
    },
    {
      "cell_type": "markdown",
      "id": "adbb73c0-524f-474f-8b82-83f5a05993fa",
      "metadata": {
        "id": "adbb73c0-524f-474f-8b82-83f5a05993fa"
      },
      "source": [
        "#### Plotting Co-Occurrence Word Embeddings"
      ]
    },
    {
      "cell_type": "code",
      "execution_count": null,
      "id": "47f5496c-91fe-4ca4-b436-e174fcc3ce72",
      "metadata": {
        "id": "47f5496c-91fe-4ca4-b436-e174fcc3ce72"
      },
      "outputs": [],
      "source": [
        "def readCorpus():\n",
        "    '''Read files from the Large Movie Review Dataset.\n",
        "        Params: category (string): category name.\n",
        "        Return: list of lists. Each inner list are processed tokens from each file.'''\n",
        "\n",
        "    #Retrieve the first 150 samples from training data.\n",
        "    files = imdbData[\"train\"][\"text\"][:numSamples]\n",
        "    return [[startToken] + [re.sub(r'[^\\w]', '', w.lower()) for w in f.split(\" \")] + [endToken] for f in files]"
      ]
    },
    {
      "cell_type": "code",
      "execution_count": null,
      "id": "f08c229b-ad19-4e6d-9ab4-12d3af20851f",
      "metadata": {
        "id": "f08c229b-ad19-4e6d-9ab4-12d3af20851f",
        "outputId": "efc9d6d7-668a-439f-c646-d0aff21e6307"
      },
      "outputs": [
        {
          "name": "stdout",
          "output_type": "stream",
          "text": [
            "[['<START>', 'i', 'rented', 'i', 'am', 'curiousyellow', 'from', 'my', 'video', 'store', 'because',\n",
            "  'of', 'all', 'the', 'controversy', 'that', 'surrounded', 'it', 'when', 'it', 'was', 'first',\n",
            "  'released', 'in', '1967', 'i', 'also', 'heard', 'that', 'at', 'first', 'it', 'was', 'seized',\n",
            "  'by', 'us', 'customs', 'if', 'it', 'ever', 'tried', 'to', 'enter', 'this', 'country', 'therefore',\n",
            "  'being', 'a', 'fan', 'of', 'films', 'considered', 'controversial', 'i', 'really', 'had', 'to',\n",
            "  'see', 'this', 'for', 'myselfbr', 'br', 'the', 'plot', 'is', 'centered', 'around', 'a', 'young',\n",
            "  'swedish', 'drama', 'student', 'named', 'lena', 'who', 'wants', 'to', 'learn', 'everything',\n",
            "  'she', 'can', 'about', 'life', 'in', 'particular', 'she', 'wants', 'to', 'focus', 'her',\n",
            "  'attentions', 'to', 'making', 'some', 'sort', 'of', 'documentary', 'on', 'what', 'the', 'average',\n",
            "  'swede', 'thought', 'about', 'certain', 'political', 'issues', 'such', 'as', 'the', 'vietnam',\n",
            "  'war', 'and', 'race', 'issues', 'in', 'the', 'united', 'states', 'in', 'between', 'asking',\n",
            "  'politicians', 'and', 'ordinary', 'denizens', 'of', 'stockholm', 'about', 'their', 'opinions',\n",
            "  'on', 'politics', 'she', 'has', 'sex', 'with', 'her', 'drama', 'teacher', 'classmates', 'and',\n",
            "  'married', 'menbr', 'br', 'what', 'kills', 'me', 'about', 'i', 'am', 'curiousyellow', 'is',\n",
            "  'that', '40', 'years', 'ago', 'this', 'was', 'considered', 'pornographic', 'really', 'the', 'sex',\n",
            "  'and', 'nudity', 'scenes', 'are', 'few', 'and', 'far', 'between', 'even', 'then', 'its', 'not',\n",
            "  'shot', 'like', 'some', 'cheaply', 'made', 'porno', 'while', 'my', 'countrymen', 'mind', 'find',\n",
            "  'it', 'shocking', 'in', 'reality', 'sex', 'and', 'nudity', 'are', 'a', 'major', 'staple', 'in',\n",
            "  'swedish', 'cinema', 'even', 'ingmar', 'bergman', 'arguably', 'their', 'answer', 'to', 'good',\n",
            "  'old', 'boy', 'john', 'ford', 'had', 'sex', 'scenes', 'in', 'his', 'filmsbr', 'br', 'i', 'do',\n",
            "  'commend', 'the', 'filmmakers', 'for', 'the', 'fact', 'that', 'any', 'sex', 'shown', 'in', 'the',\n",
            "  'film', 'is', 'shown', 'for', 'artistic', 'purposes', 'rather', 'than', 'just', 'to', 'shock',\n",
            "  'people', 'and', 'make', 'money', 'to', 'be', 'shown', 'in', 'pornographic', 'theaters', 'in',\n",
            "  'america', 'i', 'am', 'curiousyellow', 'is', 'a', 'good', 'film', 'for', 'anyone', 'wanting',\n",
            "  'to', 'study', 'the', 'meat', 'and', 'potatoes', 'no', 'pun', 'intended', 'of', 'swedish',\n",
            "  'cinema', 'but', 'really', 'this', 'film', 'doesnt', 'have', 'much', 'of', 'a', 'plot', '<END>'],\n",
            " ['<START>', 'i', 'am', 'curious', 'yellow', 'is', 'a', 'risible', 'and', 'pretentious', 'steaming',\n",
            "  'pile', 'it', 'doesnt', 'matter', 'what', 'ones', 'political', 'views', 'are', 'because', 'this',\n",
            "  'film', 'can', 'hardly', 'be', 'taken', 'seriously', 'on', 'any', 'level', 'as', 'for', 'the',\n",
            "  'claim', 'that', 'frontal', 'male', 'nudity', 'is', 'an', 'automatic', 'nc17', 'that', 'isnt',\n",
            "  'true', 'ive', 'seen', 'rrated', 'films', 'with', 'male', 'nudity', 'granted', 'they', 'only',\n",
            "  'offer', 'some', 'fleeting', 'views', 'but', 'where', 'are', 'the', 'rrated', 'films', 'with',\n",
            "  'gaping', 'vulvas', 'and', 'flapping', 'labia', 'nowhere', 'because', 'they', 'dont', 'exist',\n",
            "  'the', 'same', 'goes', 'for', 'those', 'crappy', 'cable', 'shows', 'schlongs', 'swinging', 'in',\n",
            "  'the', 'breeze', 'but', 'not', 'a', 'clitoris', 'in', 'sight', 'and', 'those', 'pretentious',\n",
            "  'indie', 'movies', 'like', 'the', 'brown', 'bunny', 'in', 'which', 'were', 'treated', 'to', 'the',\n",
            "  'site', 'of', 'vincent', 'gallos', 'throbbing', 'johnson', 'but', 'not', 'a', 'trace', 'of',\n",
            "  'pink', 'visible', 'on', 'chloe', 'sevigny', 'before', 'crying', 'or', 'implying',\n",
            "  'doublestandard', 'in', 'matters', 'of', 'nudity', 'the', 'mentally', 'obtuse', 'should', 'take',\n",
            "  'into', 'account', 'one', 'unavoidably', 'obvious', 'anatomical', 'difference', 'between', 'men',\n",
            "  'and', 'women', 'there', 'are', 'no', 'genitals', 'on', 'display', 'when', 'actresses', 'appears',\n",
            "  'nude', 'and', 'the', 'same', 'cannot', 'be', 'said', 'for', 'a', 'man', 'in', 'fact', 'you',\n",
            "  'generally', 'wont', 'see', 'female', 'genitals', 'in', 'an', 'american', 'film', 'in',\n",
            "  'anything', 'short', 'of', 'porn', 'or', 'explicit', 'erotica', 'this', 'alleged',\n",
            "  'doublestandard', 'is', 'less', 'a', 'double', 'standard', 'than', 'an', 'admittedly',\n",
            "  'depressing', 'ability', 'to', 'come', 'to', 'terms', 'culturally', 'with', 'the', 'insides',\n",
            "  'of', 'womens', 'bodies', '<END>'],\n",
            " ['<START>', 'if', 'only', 'to', 'avoid', 'making', 'this', 'type', 'of', 'film', 'in', 'the',\n",
            "  'future', 'this', 'film', 'is', 'interesting', 'as', 'an', 'experiment', 'but', 'tells', 'no',\n",
            "  'cogent', 'storybr', 'br', 'one', 'might', 'feel', 'virtuous', 'for', 'sitting', 'thru', 'it',\n",
            "  'because', 'it', 'touches', 'on', 'so', 'many', 'important', 'issues', 'but', 'it', 'does', 'so',\n",
            "  'without', 'any', 'discernable', 'motive', 'the', 'viewer', 'comes', 'away', 'with', 'no', 'new',\n",
            "  'perspectives', 'unless', 'one', 'comes', 'up', 'with', 'one', 'while', 'ones', 'mind', 'wanders',\n",
            "  'as', 'it', 'will', 'invariably', 'do', 'during', 'this', 'pointless', 'filmbr', 'br', 'one',\n",
            "  'might', 'better', 'spend', 'ones', 'time', 'staring', 'out', 'a', 'window', 'at', 'a', 'tree',\n",
            "  'growingbr', 'br', '', '<END>']]\n",
            "corpus size:  290\n"
          ]
        }
      ],
      "source": [
        "imdbCorpus = readCorpus()\n",
        "pprint.pprint(imdbCorpus[:3], compact=True, width=100)\n",
        "print(\"corpus size: \", len(imdbCorpus[0]))"
      ]
    },
    {
      "cell_type": "markdown",
      "id": "7cabd077-4d17-489f-926e-35dacefe8b35",
      "metadata": {
        "id": "7cabd077-4d17-489f-926e-35dacefe8b35"
      },
      "source": [
        "#### Question 1.1: Implement distinct_words"
      ]
    },
    {
      "cell_type": "code",
      "execution_count": null,
      "id": "1894378b-7a5e-4b61-a0dc-0506b075c2bf",
      "metadata": {
        "id": "1894378b-7a5e-4b61-a0dc-0506b075c2bf"
      },
      "outputs": [],
      "source": [
        "def distinctWords(corpus):\n",
        "    '''Determine a list of distinct words for the corpus.\n",
        "       Params: corpus (list of list of strings): corpus of documents.\n",
        "       Return: corpus_words (list of strings): sorted list of distinct words across the corpus.\n",
        "               n_corpus_words (integer): number of distinct words across the corpus.'''\n",
        "\n",
        "    #Unwrap entire corpus into a list of words.\n",
        "    wordList = [word for reviews in corpus for word in reviews]\n",
        "    #Convert to set for unique words, then sort alphabetically.\n",
        "    uniqueWord_list = sorted(set(wordList))\n",
        "    #Get count.\n",
        "    num_uniqueWord = len(uniqueWord_list)\n",
        "    return uniqueWord_list, num_uniqueWord"
      ]
    },
    {
      "cell_type": "code",
      "execution_count": null,
      "id": "0eefce1b-9692-46aa-8217-0f4142c4a265",
      "metadata": {
        "id": "0eefce1b-9692-46aa-8217-0f4142c4a265",
        "outputId": "71151d45-47e1-48e6-ac95-fd1648434c03"
      },
      "outputs": [
        {
          "name": "stdout",
          "output_type": "stream",
          "text": [
            "--------------------------------------------------------------------------------\n",
            "Passed All Tests!\n",
            "--------------------------------------------------------------------------------\n"
          ]
        }
      ],
      "source": [
        "# ---------------------\n",
        "# Run this sanity check.\n",
        "# Note that this not an exhaustive check for correctness.\n",
        "# ---------------------\n",
        "\n",
        "#Define toy corpus.\n",
        "testCorpus = [\"{} All that glitters isn't gold {}\".format(startToken, endToken).split(\" \"),\n",
        "              \"{} All's well that ends well {}\".format(startToken, endToken).split(\" \")]\n",
        "uniqueWord_testCorpus, num_uniqueWord_testCorpus = distinctWords(testCorpus)\n",
        "\n",
        "#Correct answers.\n",
        "acc_uniqueWord_testCorpus = sorted([startToken, \"All\", \"ends\", \"that\", \"gold\", \"All's\", \"glitters\", \"isn't\", \"well\", endToken])\n",
        "acc_num_uniqueWord_testCorpus = len(acc_uniqueWord_testCorpus)\n",
        "\n",
        "#Test correct number of words.\n",
        "assert(num_uniqueWord_testCorpus == acc_num_uniqueWord_testCorpus), \"Incorrect number of distinct words. Correct: {}. Yours: {}\".format(acc_num_uniqueWord_testCorpus, num_uniqueWord_testCorpus)\n",
        "\n",
        "#Test correct words.\n",
        "assert(uniqueWord_testCorpus == acc_uniqueWord_testCorpus), \"Incorrect corpus_words.\\nCorrect: {}\\nYours:   {}\".format(str(acc_uniqueWord_testCorpus), str(uniqueWord_testCorpus))\n",
        "\n",
        "#Print Success.\n",
        "print (\"-\" * 80)\n",
        "print(\"Passed All Tests!\")\n",
        "print (\"-\" * 80)"
      ]
    },
    {
      "cell_type": "markdown",
      "id": "c6d51032-d1cd-421b-9416-4aae9d7ad0a3",
      "metadata": {
        "id": "c6d51032-d1cd-421b-9416-4aae9d7ad0a3"
      },
      "source": [
        "#### Question 1.2: Implement compute_co_occurrence_matrix"
      ]
    },
    {
      "cell_type": "code",
      "execution_count": null,
      "id": "9fcf1d96-6cd9-4f54-949c-0924e1d7c603",
      "metadata": {
        "id": "9fcf1d96-6cd9-4f54-949c-0924e1d7c603"
      },
      "outputs": [],
      "source": [
        "def gen_co_occurrenceMatrix(corpus, windowSize=4):\n",
        "    '''Compute co-occurrence matrix for the given corpus and windowSize (default of 4).\n",
        "       Note: Each word in a document should be at the center of a window. Words near edges will have a smaller number of co-occurring words.\n",
        "       Params: corpus (list of list of strings): corpus of documents.\n",
        "               windowSize (int): size of context window.\n",
        "       Return:\n",
        "               M (a symmetric numpy matrix of shape (number of unique words in the corpus, number of unique words in the corpus)):\n",
        "               Co-occurence matrix of word counts.\n",
        "               The ordering of the words in the rows/columns should be the same as the ordering of the words given by the distinctWords function.\n",
        "               word2ind (dict): dictionary that maps word to index (i.e. row/column number) for matrix M.'''\n",
        "\n",
        "    uniqueWord_list, num_uniqueWord = distinctWords(corpus)\n",
        "    #Initiate square matrix | Size = Number of unique words.\n",
        "    M = np.zeros((num_uniqueWord, num_uniqueWord))\n",
        "    #Enumerate will auto generate index. Words are SORTED alphabetically here.\n",
        "    word2indexDict = {word: index for index, word in enumerate(uniqueWord_list)}\n",
        "\n",
        "    #Iterate through each review.\n",
        "    for review in corpus:\n",
        "        reviewLength = len(review)\n",
        "        #Index list based on global unique word2indexDict.\n",
        "        reviewIndices = [word2indexDict[word] for word in review]\n",
        "\n",
        "        #Iterate through each word, enumerate will yield (index, global unique index)\n",
        "        for index, wordIndex in enumerate(reviewIndices):\n",
        "            #Previous 4 words. If less than 4 words, start at the beginning.\n",
        "            windowStart = max(0, index - windowSize)\n",
        "            #Next 4 words. If less than 4 words, up till end of the review.\n",
        "            windowEnd = min(reviewLength, index + 1 + windowSize)\n",
        "\n",
        "            #Iterate through each word -- by index -- within window size.\n",
        "            for m in range(windowStart, windowEnd):\n",
        "                #Exclude self-occurence.\n",
        "                if index != m:\n",
        "                    #Adding count -- (current word, nearby word).\n",
        "                    M[wordIndex, reviewIndices[m]] +=1\n",
        "\n",
        "    return M, word2indexDict"
      ]
    },
    {
      "cell_type": "code",
      "execution_count": null,
      "id": "fafd0ab3-80a7-4cbb-9f5c-bd8464fd313b",
      "metadata": {
        "id": "fafd0ab3-80a7-4cbb-9f5c-bd8464fd313b",
        "outputId": "5c7cde6f-b2f9-411f-a866-534934018ff0"
      },
      "outputs": [
        {
          "name": "stdout",
          "output_type": "stream",
          "text": [
            "--------------------------------------------------------------------------------\n",
            "Passed All Tests!\n",
            "--------------------------------------------------------------------------------\n"
          ]
        }
      ],
      "source": [
        "# ---------------------\n",
        "# Run this sanity check.\n",
        "# Note that this is not an exhaustive check for correctness.\n",
        "# ---------------------\n",
        "\n",
        "#Define toy corpus and get co-occurrence matrix\n",
        "testCorpus = [\"{} All that glitters isn't gold {}\".format(startToken, endToken).split(\" \"), \"{} All's well that ends well {}\".format(startToken, endToken).split(\" \")]\n",
        "testMatrix, test_word2indexDict = gen_co_occurrenceMatrix(testCorpus, windowSize=1)\n",
        "\n",
        "#Correct matrix M and word2indexDict.\n",
        "acc_testMatrix = np.array(\n",
        "    [[0., 0., 0., 0., 0., 0., 1., 0., 0., 1.,],\n",
        "     [0., 0., 1., 1., 0., 0., 0., 0., 0., 0.,],\n",
        "     [0., 1., 0., 0., 0., 0., 0., 0., 1., 0.,],\n",
        "     [0., 1., 0., 0., 0., 0., 0., 0., 0., 1.,],\n",
        "     [0., 0., 0., 0., 0., 0., 0., 0., 1., 1.,],\n",
        "     [0., 0., 0., 0., 0., 0., 0., 1., 1., 0.,],\n",
        "     [1., 0., 0., 0., 0., 0., 0., 1., 0., 0.,],\n",
        "     [0., 0., 0., 0., 0., 1., 1., 0., 0., 0.,],\n",
        "     [0., 0., 1., 0., 1., 1., 0., 0., 0., 1.,],\n",
        "     [1., 0., 0., 1., 1., 0., 0., 0., 1., 0.,]])\n",
        "acc_uniqueWord_testCorpus = sorted([startToken, \"All\", \"ends\", \"that\", \"gold\", \"All's\", \"glitters\", \"isn't\", \"well\", endToken])\n",
        "acc_test_word2indexDict = dict(zip(acc_uniqueWord_testCorpus, range(len(acc_uniqueWord_testCorpus))))\n",
        "\n",
        "#Test correct word2indexDict.\n",
        "assert(acc_test_word2indexDict == test_word2indexDict), \"Your word2ind is incorrect:\\nCorrect: {}\\nYours: {}\".format(acc_test_word2indexDict, test_word2indexDict)\n",
        "\n",
        "#Test correct matrix M shape.\n",
        "assert(testMatrix.shape == acc_testMatrix.shape), \"M matrix has incorrect shape.\\nCorrect: {}\\nYours: {}\".format(textMatrix.shape, acc_testMatrix.shape)\n",
        "\n",
        "#Test correct matrix M values.\n",
        "for w1 in acc_test_word2indexDict.keys():\n",
        "    idx1 = acc_test_word2indexDict[w1]\n",
        "    for w2 in acc_test_word2indexDict.keys():\n",
        "        idx2 = acc_test_word2indexDict[w2]\n",
        "        student = testMatrix[idx1, idx2]\n",
        "        correct = acc_testMatrix[idx1, idx2]\n",
        "        if student != correct:\n",
        "            print(\"Correct M:\")\n",
        "            print(acc_testMatrix)\n",
        "            print(\"Your M: \")\n",
        "            print(testMatrix)\n",
        "            raise AssertionError(\"Incorrect count at index ({}, {})=({}, {}) in matrix M. Yours has {} but should have {}.\".format(idx1, idx2, w1, w2, student, correct))\n",
        "\n",
        "#Print Success.\n",
        "print (\"-\" * 80)\n",
        "print(\"Passed All Tests!\")\n",
        "print (\"-\" * 80)"
      ]
    },
    {
      "cell_type": "markdown",
      "id": "b7cd7b76-f791-4fc3-a3ba-26e8400b71f4",
      "metadata": {
        "id": "b7cd7b76-f791-4fc3-a3ba-26e8400b71f4"
      },
      "source": [
        "#### Question 1.3: Implement reduce_to_k_dim"
      ]
    },
    {
      "cell_type": "code",
      "execution_count": null,
      "id": "768c84ca-f45f-4255-a144-09c6e19c74b5",
      "metadata": {
        "id": "768c84ca-f45f-4255-a144-09c6e19c74b5"
      },
      "outputs": [],
      "source": [
        "def k_dim_matrixReduce(M, k=2):\n",
        "    '''Reduce a co-occurence count matrix of dimensionality (num_uniqueWord, num_uniqueWord)\n",
        "        to a matrix of dimensionality (num_uniqueWord, k) using SVD function from Scikit-Learn.\n",
        "       Params: M (numpy matrix of shape (number of unique words in the corpus , number of unique words in the corpus)): co-occurence matrix of word counts\n",
        "               k (int): embedding size of each word after dimension reduction\n",
        "       Return: reducedM (numpy matrix of shape (number of corpus words, k)): matrix of k-dimensioal word embeddings.\n",
        "               In terms of the SVD from math class, this actually returns U * S'''\n",
        "\n",
        "    #For TruncatedSVD\n",
        "    n_iters = 10\n",
        "    print(\"Running Truncated SVD over %i words...\" % (M.shape[0]))\n",
        "\n",
        "    #n_components: Desired output dimensionality.\n",
        "    #n_iters: Number of iterations for randomized SVD solver, default = 5.\n",
        "    svd = TruncatedSVD(n_components = k, n_iter = n_iters)\n",
        "    reducedM = svd.fit_transform(M)\n",
        "    print(\"Done.\")\n",
        "    return reducedM"
      ]
    },
    {
      "cell_type": "code",
      "execution_count": null,
      "id": "3b4072fd-8596-4494-b1c2-03f8463c5ade",
      "metadata": {
        "id": "3b4072fd-8596-4494-b1c2-03f8463c5ade",
        "outputId": "7fc8d399-ee8c-449e-ec99-5984435c1c31"
      },
      "outputs": [
        {
          "name": "stdout",
          "output_type": "stream",
          "text": [
            "Running Truncated SVD over 10 words...\n",
            "Done.\n",
            "--------------------------------------------------------------------------------\n",
            "Passed All Tests!\n",
            "--------------------------------------------------------------------------------\n"
          ]
        }
      ],
      "source": [
        "# ---------------------\n",
        "# Run this sanity check.\n",
        "# Note that this is not an exhaustive check for correctness.\n",
        "# In fact we only check that your reducedM has the right dimensions.\n",
        "# ---------------------\n",
        "\n",
        "#Define toy corpus and run student code.\n",
        "testCorpus = [\"{} All that glitters isn't gold {}\".format(startToken, endToken).split(\" \"), \"{} All's well that ends well {}\".format(startToken, endToken).split(\" \")]\n",
        "testMatrix, test_word2indexDict = gen_co_occurrenceMatrix(testCorpus, windowSize=1)\n",
        "reduced_testMatrix = k_dim_matrixReduce(testMatrix, k=2)\n",
        "\n",
        "#Test proper dimensions.\n",
        "assert (reduced_testMatrix.shape[0] == 10), \"M_reduced has {} rows; should have {}\".format(reduced_testMatrix.shape[0], 10)\n",
        "assert (reduced_testMatrix.shape[1] == 2), \"M_reduced has {} columns; should have {}\".format(reduced_testMatrix.shape[1], 2)\n",
        "\n",
        "#Print Success.\n",
        "print (\"-\" * 80)\n",
        "print(\"Passed All Tests!\")\n",
        "print (\"-\" * 80)"
      ]
    },
    {
      "cell_type": "code",
      "execution_count": null,
      "id": "4ee410d1-9e3d-404f-8e98-c3f911ec6036",
      "metadata": {
        "id": "4ee410d1-9e3d-404f-8e98-c3f911ec6036",
        "outputId": "23771113-93a9-4cb4-90c2-068ad4a08dc6"
      },
      "outputs": [
        {
          "name": "stdout",
          "output_type": "stream",
          "text": [
            "Reduce test Matrix output (k=2):\n"
          ]
        },
        {
          "data": {
            "text/plain": [
              "array([[ 6.54802087e-01, -7.83221122e-01],\n",
              "       [ 5.20200324e-01,  9.43689571e-16],\n",
              "       [ 7.05647176e-01,  4.84057274e-01],\n",
              "       [ 7.05647176e-01, -4.84057274e-01],\n",
              "       [ 1.02780472e+00, -2.22044605e-16],\n",
              "       [ 6.54802087e-01,  7.83221122e-01],\n",
              "       [ 3.82258491e-01,  6.56224003e-01],\n",
              "       [ 3.82258491e-01, -6.56224003e-01],\n",
              "       [ 1.39420808e+00, -1.06179274e+00],\n",
              "       [ 1.39420808e+00,  1.06179274e+00]])"
            ]
          },
          "execution_count": 11,
          "metadata": {},
          "output_type": "execute_result"
        }
      ],
      "source": [
        "print(\"Reduce test Matrix output (k=2):\")\n",
        "reduced_testMatrix"
      ]
    },
    {
      "cell_type": "markdown",
      "id": "d84b8f22-44a5-424d-b99b-6ad688ff8765",
      "metadata": {
        "id": "d84b8f22-44a5-424d-b99b-6ad688ff8765"
      },
      "source": [
        "#### Question 1.4: Implement plot_embeddings"
      ]
    },
    {
      "cell_type": "code",
      "execution_count": null,
      "id": "5e6062b5-e1ff-4e5c-9b57-30355ab68599",
      "metadata": {
        "id": "5e6062b5-e1ff-4e5c-9b57-30355ab68599"
      },
      "outputs": [],
      "source": [
        "def plotEmbeddings(reducedM, word2indexDict, wordList):\n",
        "    '''Plot in a scatterplot the embeddings of the words specified in the list \"words\".\n",
        "       NOTE: Not plotting all the words in reducedM / word2indexDict. Include a label next to each point.\n",
        "       Params: M_reduced (numpy matrix of shape (number of unique words in the corpus , 2)): matrix of 2-dimensioal word embeddings.\n",
        "               word2ind (dict): dictionary that maps word to indices for matrix M.\n",
        "               words (list of strings): words whose embeddings we want to visualize.'''\n",
        "\n",
        "    for word in wordList:\n",
        "        #Get the index, then corresponding embedding.\n",
        "        wordIndex = word2indexDict[word]\n",
        "        embedding = reducedM[wordIndex]\n",
        "\n",
        "        plt.scatter(embedding[0], embedding[1], marker='x', color='red')\n",
        "        #Include label next to each point.\n",
        "        plt.text(embedding[0], embedding[1], word, fontsize = 7)\n",
        "\n",
        "    plt.title(\"Word Embeddings\")\n",
        "    plt.show()"
      ]
    },
    {
      "cell_type": "code",
      "execution_count": null,
      "id": "9f9a4e7a-bcc5-4079-868d-278ccd22e672",
      "metadata": {
        "id": "9f9a4e7a-bcc5-4079-868d-278ccd22e672",
        "outputId": "8e53dc2c-6e74-4da2-f970-8e58c91dc903"
      },
      "outputs": [
        {
          "name": "stdout",
          "output_type": "stream",
          "text": [
            "--------------------------------------------------------------------------------\n",
            "Outputted Plot:\n"
          ]
        },
        {
          "data": {
            "image/png": "[encoded data removed]",
            "text/plain": [
              "<Figure size 1000x500 with 1 Axes>"
            ]
          },
          "metadata": {},
          "output_type": "display_data"
        },
        {
          "name": "stdout",
          "output_type": "stream",
          "text": [
            "--------------------------------------------------------------------------------\n"
          ]
        }
      ],
      "source": [
        "# ---------------------\n",
        "# Run this sanity check.\n",
        "# Note that this is not an exhaustive check for correctness.\n",
        "# ---------------------\n",
        "\n",
        "print (\"-\" * 80)\n",
        "print (\"Outputted Plot:\")\n",
        "\n",
        "reducedM_plotTest = np.array([[1, 1], [-1, -1], [1, -1], [-1, 1], [0, 0]])\n",
        "word2index_plotTest = {'test1': 0, 'test2': 1, 'test3': 2, 'test4': 3, 'test5': 4}\n",
        "wordsTest = ['test1', 'test2', 'test3', 'test4', 'test5']\n",
        "plotEmbeddings(reducedM_plotTest, word2index_plotTest, wordsTest)\n",
        "\n",
        "print (\"-\" * 80)"
      ]
    },
    {
      "cell_type": "markdown",
      "id": "1579ea4f-f0a3-48b9-86ef-dec1dd6dccb1",
      "metadata": {
        "id": "1579ea4f-f0a3-48b9-86ef-dec1dd6dccb1"
      },
      "source": [
        "#### Question 1.5: Co-Occurrence Plot Analysis"
      ]
    },
    {
      "cell_type": "code",
      "execution_count": null,
      "id": "c27f1d85-0740-4fa7-9de2-43ef3c8d99f5",
      "metadata": {
        "id": "c27f1d85-0740-4fa7-9de2-43ef3c8d99f5",
        "outputId": "6a33836b-93d1-4472-f2fe-579aa8e5b6bd"
      },
      "outputs": [
        {
          "name": "stdout",
          "output_type": "stream",
          "text": [
            "Running Truncated SVD over 5880 words...\n",
            "Done.\n"
          ]
        },
        {
          "data": {
            "image/png": "[encoded data removed]",
            "text/plain": [
              "<Figure size 1000x500 with 1 Axes>"
            ]
          },
          "metadata": {},
          "output_type": "display_data"
        }
      ],
      "source": [
        "# -----------------------------\n",
        "# Run This Cell to Produce Plot.\n",
        "# ------------------------------\n",
        "\n",
        "imdbCorpus = readCorpus()\n",
        "co_occurrenceMatrix, co_occurrence_word2indexDict = gen_co_occurrenceMatrix(imdbCorpus)\n",
        "co_occurrence_reducedMatrix = k_dim_matrixReduce(co_occurrenceMatrix, k=2)\n",
        "\n",
        "#Rescale (normalize) the rows to make them each of unit-length.\n",
        "lengthsMatrix = np.linalg.norm(co_occurrence_reducedMatrix, axis=1)\n",
        "#Broadcasting: auto convert smaller array(s) to match the dimensions of the larger one.\n",
        "normalizedMatrix = co_occurrence_reducedMatrix / lengthsMatrix [:, np.newaxis]\n",
        "\n",
        "words = ['movie', 'book', 'mysterious', 'story', 'fascinating', 'good', 'interesting', 'large', 'massive', 'huge']\n",
        "\n",
        "plotEmbeddings(normalizedMatrix, co_occurrence_word2indexDict, words)"
      ]
    },
    {
      "cell_type": "markdown",
      "id": "726e86d0-3988-4c1e-bd68-bfb8264ffb7c",
      "metadata": {
        "id": "726e86d0-3988-4c1e-bd68-bfb8264ffb7c"
      },
      "source": [
        "#### a. Find at least two groups of words that cluster together in 2-dimensional embedding space. Give an explanation for each cluster you observe."
      ]
    },
    {
      "cell_type": "markdown",
      "id": "375a72c9-b5e6-484a-ada3-531099369990",
      "metadata": {
        "id": "375a72c9-b5e6-484a-ada3-531099369990"
      },
      "source": [
        "##### <font color=\"red\">First group:</font>\n",
        "- <font color=\"red\"> 'good', 'fascinating', and 'interesting' => All three words are adjectives commonly used by viewers. They all have the same positive semantic similarities in describing an object. Hence, explain why most likely these words are clustered together.</font>\n",
        "\n",
        "##### <font color=\"red\">Second group:</font>\n",
        "- <font color=\"red\"> 'movie', 'book', and 'story' =>  All three words are nouns, especially dominant nouns since this is a movie review dataset from IMDB. Likewise, they are all semantically similar that present an object viewers saw and reviewed.</font>\n",
        "- <font color=\"red\"> Interestingly, 'book' and 'movie' seems to be closer than 'story'. This can be analyzed that a movie was produced based on a book. While a story just represents the plot of a book/movie. </font>\n",
        "\n",
        "##### <font color=\"red\"> Note that different parts of speech can be clustered together, it just happens that words in the same cluster in this case are in the same parts of speech. </font>"
      ]
    },
    {
      "cell_type": "markdown",
      "id": "429a0135-a6f5-4699-bc0e-477108b6aa1f",
      "metadata": {
        "id": "429a0135-a6f5-4699-bc0e-477108b6aa1f"
      },
      "source": [
        "##### b. What doesn't cluster together that you might think should have? Describe at least two examples."
      ]
    },
    {
      "cell_type": "markdown",
      "id": "73dd2990-d34a-41ab-80e9-081c41dcf0b1",
      "metadata": {
        "id": "73dd2990-d34a-41ab-80e9-081c41dcf0b1"
      },
      "source": [
        "- <font color=\"red\"> 'massive' and 'huge' are words that should be clustered together since they have semantic similarities but they are very wide apart in the scatterplot. This could be resulted from review contents, perhaps users do not tend to use these two words together.<\\font>\n",
        "- <font color=\"red\"> 'large' should also be in the same cluster as ['massive' and 'huge'] since it also describes an object's great capacity.<\\font>"
      ]
    },
    {
      "cell_type": "markdown",
      "id": "a50b4ba4-8e62-4972-8237-cd83c2912e5c",
      "metadata": {
        "tags": [],
        "id": "a50b4ba4-8e62-4972-8237-cd83c2912e5c"
      },
      "source": [
        "### Part 2: Prediction-Based Word Vectors"
      ]
    },
    {
      "cell_type": "code",
      "execution_count": null,
      "id": "fa5fb3f6-6b0b-4f90-bdc3-39107db0e61f",
      "metadata": {
        "id": "fa5fb3f6-6b0b-4f90-bdc3-39107db0e61f"
      },
      "outputs": [],
      "source": [
        "def load_embeddingModel():\n",
        "    '''Load GloVe Vectors.\n",
        "       Return: wv_from_bin: All 400000 embeddings, each length 200.'''\n",
        "\n",
        "    import gensim.downloader as api\n",
        "    wordVector_fromBin = api.load(\"glove-wiki-gigaword-200\")\n",
        "    print(\"Loaded vocab size %i\" % len(list(wordVector_fromBin.index_to_key)))\n",
        "    return wordVector_fromBin"
      ]
    },
    {
      "cell_type": "code",
      "execution_count": null,
      "id": "c72a02f3-f716-48b5-9c3f-2105831cc18e",
      "metadata": {
        "id": "c72a02f3-f716-48b5-9c3f-2105831cc18e",
        "outputId": "fbb7c1d3-c9c8-4654-c3f7-65bbe6c990c4"
      },
      "outputs": [
        {
          "name": "stdout",
          "output_type": "stream",
          "text": [
            "Loaded vocab size 400000\n"
          ]
        }
      ],
      "source": [
        "wordVector_fromBin = load_embeddingModel()"
      ]
    },
    {
      "cell_type": "code",
      "execution_count": null,
      "id": "def47080-add4-4d0c-8bdd-ad8739722a8f",
      "metadata": {
        "id": "def47080-add4-4d0c-8bdd-ad8739722a8f"
      },
      "outputs": [],
      "source": [
        "def gen_vectorMatrix(wordVector_fromBin, requiredWords):\n",
        "    '''Put the GloVe Vectors into a matrix M.\n",
        "       Param: wordVector_fromBin: KeyedVectors object; the 400000 GloVe vectors loaded from file.\n",
        "       Return: M: numpy matrix shape (num words, 200) containing the vectors.\n",
        "               word2ind: dictionary mapping each word to its row number in M.'''\n",
        "\n",
        "    import random\n",
        "    import gensim.downloader as api\n",
        "    words = list(wordVector_fromBin.index_to_key)\n",
        "    print(\"Shuffling words ...\")\n",
        "    random.seed(225)\n",
        "    random.shuffle(words)\n",
        "    print(\"Putting %i words into word2ind and matrix M...\" % len(words))\n",
        "\n",
        "    word2indexDict = {}\n",
        "    M = []\n",
        "    currentIndex = 0\n",
        "    for word in words:\n",
        "        try:\n",
        "            M.append(wordVector_fromBin.get_vector(word))\n",
        "            word2indexDict[word] = currentIndex\n",
        "            currentIndex += 1\n",
        "        except KeyError:\n",
        "            continue\n",
        "    for w in requiredWords:\n",
        "        if w in words:\n",
        "            continue\n",
        "        try:\n",
        "            M.append(wordVector_fromBin.get_vector(w))\n",
        "            word2indexDict[w] = currentIndex\n",
        "            currentIndex += 1\n",
        "        except KeyError:\n",
        "            continue\n",
        "    M = np.stack(M)\n",
        "    print(\"Done.\")\n",
        "    return M, word2indexDict"
      ]
    },
    {
      "cell_type": "code",
      "execution_count": null,
      "id": "45bb614c-a6b1-4363-95af-966fc730fc1c",
      "metadata": {
        "id": "45bb614c-a6b1-4363-95af-966fc730fc1c",
        "outputId": "29842afe-2e82-43f4-ff3a-197470236a21"
      },
      "outputs": [
        {
          "name": "stdout",
          "output_type": "stream",
          "text": [
            "Shuffling words ...\n",
            "Putting 400000 words into word2ind and matrix M...\n",
            "Done.\n",
            "Running Truncated SVD over 400000 words...\n",
            "Done.\n"
          ]
        }
      ],
      "source": [
        "# -----------------------------------------------------------------\n",
        "# Run Cell to Reduce 200-Dimensional Word Embeddings to k Dimensions.\n",
        "# Note: This should be quick to run.\n",
        "# -----------------------------------------------------------------\n",
        "\n",
        "M, word2indexDict = gen_vectorMatrix(wordVector_fromBin, words)\n",
        "reducedM = k_dim_matrixReduce(M, k=2)\n",
        "\n",
        "#Rescale (normalize) the rows to make them each of unit-length.\n",
        "lengthsM = np.linalg.norm(reducedM, axis=1)\n",
        "#Broadcasting.\n",
        "normalized_reducedM = reducedM / lengthsM[:, np.newaxis]"
      ]
    },
    {
      "cell_type": "markdown",
      "id": "f96762b5-7fc0-41c9-9801-6c6566aa15bf",
      "metadata": {
        "id": "f96762b5-7fc0-41c9-9801-6c6566aa15bf"
      },
      "source": [
        "#### Question 2.1: GloVe Plot Analysis"
      ]
    },
    {
      "cell_type": "code",
      "execution_count": null,
      "id": "66a9e392-f62a-4570-8c9c-26fcdcf86665",
      "metadata": {
        "id": "66a9e392-f62a-4570-8c9c-26fcdcf86665",
        "outputId": "3fb5d0db-2f80-4491-b9a7-477c93e5946d"
      },
      "outputs": [
        {
          "data": {
            "image/png": "[encoded data removed]",
            "text/plain": [
              "<Figure size 1000x500 with 1 Axes>"
            ]
          },
          "metadata": {},
          "output_type": "display_data"
        }
      ],
      "source": [
        "words = ['movie', 'book', 'mysterious', 'story', 'fascinating', 'good', 'interesting', 'large', 'massive', 'huge']\n",
        "plotEmbeddings(normalized_reducedM, word2indexDict, words)"
      ]
    },
    {
      "cell_type": "markdown",
      "id": "b69f8be7-76cc-4bbe-91d0-843d906bf3cd",
      "metadata": {
        "id": "b69f8be7-76cc-4bbe-91d0-843d906bf3cd"
      },
      "source": [
        "##### a. What is one way the plot is different from the one generated earlier from the co-occurrence matrix? What is one way it's similar?"
      ]
    },
    {
      "cell_type": "markdown",
      "id": "c11e0ac3-076a-425b-a13a-771d69ebd039",
      "metadata": {
        "id": "c11e0ac3-076a-425b-a13a-771d69ebd039"
      },
      "source": [
        "##### <font color=\"red\">Different:</font>\n",
        "- <font color=\"red\"> 'good', 'fascinating', and 'interesting' are not close by compared to previous graph. Notably, 'interesting' and 'good' can still be considered somewhat close, but 'fascinating' is far away.</font>\n",
        "\n",
        "##### <font color=\"red\">Similar:</font>\n",
        "- <font color=\"red\"> 'movie', 'book', and 'story' are still close by with equal distance from each other hence, can be grouped within a cluster. However, in the previous scatter plot, 'book' and 'movie' were pretty much next to each other.</font>"
      ]
    },
    {
      "cell_type": "markdown",
      "id": "4f1469f9-0032-41ed-911a-cd4817042426",
      "metadata": {
        "id": "4f1469f9-0032-41ed-911a-cd4817042426"
      },
      "source": [
        "##### b. Why might the GloVe plot (question_2.1.png) differ from the plot generated earlier from the co-occurrence matrix (question_1.5.png)?"
      ]
    },
    {
      "cell_type": "code",
      "execution_count": null,
      "id": "3b8d9e33-0f6b-4ecf-82dc-f34e70cfe6db",
      "metadata": {
        "id": "3b8d9e33-0f6b-4ecf-82dc-f34e70cfe6db",
        "outputId": "5433a8a8-ad0c-4d9b-98e9-b04476100b38"
      },
      "outputs": [
        {
          "name": "stdout",
          "output_type": "stream",
          "text": [
            "Number of unique words in IMDB corpus: 5880\n"
          ]
        }
      ],
      "source": [
        "print(f\"Number of unique words in IMDB corpus: {len(co_occurrence_word2indexDict)}\")"
      ]
    },
    {
      "cell_type": "markdown",
      "id": "f6ec85b9-5c2e-405c-961f-66fb1bb03b8e",
      "metadata": {
        "id": "f6ec85b9-5c2e-405c-961f-66fb1bb03b8e"
      },
      "source": [
        "- <font color=\"red\"> Since GloVe includes 400,000 words, which is much larger than the 5,880 unique words manually reduced and vectorized through the co-occurrence matrix, the embedding vectors in GloVe capture some what different semantic relationships. This leads to a difference in how word similarities are constructed compared to the co-occurrence matrix. </font>\n",
        "- <font color=\"red\"> Despite this, both scatterplots show somewhat similar patterns. If the goal is to preserve the interconnected semantic relationships of words within IMDB movie reviews, the co-occurrence matrix is a suitable choice. However, to generalize and understand broader patterns, GloVe is more effective. </font>"
      ]
    },
    {
      "cell_type": "markdown",
      "id": "8fc7f4b6-a8c0-4be2-8dbf-380f0cb48105",
      "metadata": {
        "id": "8fc7f4b6-a8c0-4be2-8dbf-380f0cb48105"
      },
      "source": [
        "#### Question 2.2: Words with Multiple Meanings"
      ]
    },
    {
      "cell_type": "markdown",
      "id": "5fa47e87-1692-4b9d-bf64-27a85ac05db4",
      "metadata": {
        "id": "5fa47e87-1692-4b9d-bf64-27a85ac05db4"
      },
      "source": [
        "##### <font color=\"red\">First word - 'head'- polysemes:</font>"
      ]
    },
    {
      "cell_type": "code",
      "execution_count": null,
      "id": "1a2c0e37-c1ad-451c-841e-8e05bf315afd",
      "metadata": {
        "id": "1a2c0e37-c1ad-451c-841e-8e05bf315afd",
        "outputId": "d05266f2-e781-41b2-e9e1-91b3886bcf38"
      },
      "outputs": [
        {
          "name": "stdout",
          "output_type": "stream",
          "text": [
            "1. heads\n",
            "2. headed\n",
            "3. chief\n",
            "4. body\n",
            "5. assistant\n",
            "6. director\n",
            "7. deputy\n",
            "8. hand\n",
            "9. left\n",
            "10. arm\n"
          ]
        }
      ],
      "source": [
        "similarWords1 = wordVector_fromBin.most_similar('head', topn=10)\n",
        "for i, (similarWord, similarity) in enumerate(similarWords1, 1):\n",
        "    print(f\"{i}. {similarWord}\")"
      ]
    },
    {
      "cell_type": "markdown",
      "id": "461fa1a0-d102-468b-b149-18bc67053f7a",
      "metadata": {
        "id": "461fa1a0-d102-468b-b149-18bc67053f7a"
      },
      "source": [
        "##### <font color=\"red\">Multiple meanings that occur in the top 10:</font>\n",
        "- <font color=\"red\">Leader/Person in Charge: 'chief', 'assistant', 'director', 'deputy'.</font>\n",
        "- <font color=\"red\">Physical Body Part: 'body', 'hand', 'arm'.</font>"
      ]
    },
    {
      "cell_type": "code",
      "execution_count": null,
      "id": "e0e97a27-d3a6-4f27-af27-25c458b40126",
      "metadata": {
        "id": "e0e97a27-d3a6-4f27-af27-25c458b40126",
        "outputId": "71425853-9ce9-4e85-9d86-aeaf777fa0fc"
      },
      "outputs": [
        {
          "name": "stdout",
          "output_type": "stream",
          "text": [
            "1. caps\n",
            "2. salary\n",
            "3. uniform\n",
            "4. hat\n",
            "5. blue\n",
            "6. shirt\n",
            "7. matching\n",
            "8. wearing\n",
            "9. d'antibes\n",
            "10. helmet\n"
          ]
        }
      ],
      "source": [
        "similarWords2 = wordVector_fromBin.most_similar('cap', topn=10)\n",
        "for i, (similarWord, similarity) in enumerate(similarWords2, 1):\n",
        "    print(f\"{i}. {similarWord}\")"
      ]
    },
    {
      "cell_type": "markdown",
      "id": "54b51b3a-55ea-4c76-b128-0e18f594fe55",
      "metadata": {
        "id": "54b51b3a-55ea-4c76-b128-0e18f594fe55"
      },
      "source": [
        "##### <font color=\"red\">Multiple meanings that occur in the top 10:</font>\n",
        "- <font color=\"red\">Clothing/Headwear: 'hat', 'helmet', 'shirt', 'wearing'.</font>\n",
        "- <font color=\"red\">Limit/Maximum: 'salary'.</font>\n",
        "- <font color=\"red\">Notably, \"d'antibes\" is name of a city in Southeastern France. This to show that similarity here is determined by context.</font>\n",
        "\n",
        "##### <font color=\"red\">Reason many of the polysemous or homonymic words didn't work (i.e. the top-10 most similar words only contain one of the meanings of the words):</font>\n",
        "- <font color=\"red\">Since word embeddings are created based on context similarity, polysemous and homonymous words are often used more frequently in relation to a particular meaning, aka. a dominant definition. Hence, potentially the dominant meaning will be more strongly encoded in the word's vector, and in some cases yield only similar words associated with that commonly used definition.</font>"
      ]
    },
    {
      "cell_type": "markdown",
      "id": "03f072d3-4447-4b20-a256-7cc7284ea300",
      "metadata": {
        "id": "03f072d3-4447-4b20-a256-7cc7284ea300"
      },
      "source": [
        "#### Question 2.3: Synonyms & Antonyms"
      ]
    },
    {
      "cell_type": "code",
      "execution_count": null,
      "id": "446b5ad4-b18e-46d0-bb1e-6ba88a824473",
      "metadata": {
        "id": "446b5ad4-b18e-46d0-bb1e-6ba88a824473",
        "outputId": "8fac52cc-d039-4a05-8a10-1bd547c93c24"
      },
      "outputs": [
        {
          "name": "stdout",
          "output_type": "stream",
          "text": [
            "Synonyms: 'love' - 'adore': 0.6330\n",
            "Antonyms: 'love' - 'hate': 0.4935\n"
          ]
        }
      ],
      "source": [
        "distance1 = wordVector_fromBin.distance('love','adore')\n",
        "print(f\"Synonyms: 'love' - 'adore': {distance1:.4f}\")\n",
        "distance2 = wordVector_fromBin.distance('love','hate')\n",
        "print(f\"Antonyms: 'love' - 'hate': {distance2:.4f}\")"
      ]
    },
    {
      "cell_type": "markdown",
      "id": "b846c756-3016-4273-9ca9-d4814536b83d",
      "metadata": {
        "id": "b846c756-3016-4273-9ca9-d4814536b83d"
      },
      "source": [
        "##### <font color=\"red\">A possible explanation for why this counter-intuitive result may have happened:</font>\n",
        "- <font color=\"red\">This occurs because word embeddings are context-dependent. In practice, antonyms are often used together in sentences or paragraphs for comparison -- for example: 'love' vs. 'hate', whereas synonyms are less likely to co-occur as writers tend to avoid repetition.</font>\n",
        "- <font color=\"red\">As a result, the embeddings of antonyms can be closer in vector space due to their frequent contextual proximity, leading to a smaller distance between opposites compared to synonyms, which are used less frequently together.</font>"
      ]
    },
    {
      "cell_type": "markdown",
      "id": "441d045e-3315-4cdd-a8ad-9c8a62f5cd15",
      "metadata": {
        "id": "441d045e-3315-4cdd-a8ad-9c8a62f5cd15"
      },
      "source": [
        "#### Question 2.4: Analogies with Word Vectors"
      ]
    },
    {
      "cell_type": "code",
      "execution_count": null,
      "id": "ea3e698d-64fd-469f-898c-4445e715e938",
      "metadata": {
        "id": "ea3e698d-64fd-469f-898c-4445e715e938",
        "outputId": "661354ef-8586-40c0-ed50-37496e777bf7"
      },
      "outputs": [
        {
          "name": "stdout",
          "output_type": "stream",
          "text": [
            "[('grandmother', 0.7608445286750793),\n",
            " ('granddaughter', 0.7200808525085449),\n",
            " ('daughter', 0.7168302536010742),\n",
            " ('mother', 0.7151536345481873),\n",
            " ('niece', 0.7005682587623596),\n",
            " ('father', 0.6659887433052063),\n",
            " ('aunt', 0.6623408794403076),\n",
            " ('grandson', 0.6618767976760864),\n",
            " ('grandparents', 0.644661009311676),\n",
            " ('wife', 0.6445354223251343)]\n"
          ]
        }
      ],
      "source": [
        "#Run this cell to answer the analogy -- man : grandfather :: woman : x\n",
        "pprint.pprint(wordVector_fromBin.most_similar(positive=['woman', 'grandfather'], negative=['man']))"
      ]
    },
    {
      "cell_type": "markdown",
      "id": "c6b1aa69-dbc2-47f1-b937-0efba8bd89c6",
      "metadata": {
        "id": "c6b1aa69-dbc2-47f1-b937-0efba8bd89c6"
      },
      "source": [
        "##### <font color=\"red\">m: 'man' | g: 'grandfather' | w: 'women' | x: answer/output. The expression in which we are maximizing cosine similarity with x:</font>\n",
        "- <font color=\"red\">Understanding: Word(s) that is to 'woman' what 'grandfather' is to 'man'.</font>\n",
        "- <font color=\"red\">positive=['woman', 'grandfather'] => adding (w + g) | negative=['man'] => deducting (-m).</font>\n",
        "- <font color=\"red\">(woman + grandfather) - man => x = (w + g) - m.</font>"
      ]
    },
    {
      "cell_type": "markdown",
      "id": "b73f19e3-b4a7-4999-85f6-13c300ec4aac",
      "metadata": {
        "id": "b73f19e3-b4a7-4999-85f6-13c300ec4aac"
      },
      "source": [
        "#### Question 2.5: Finding Analogies"
      ]
    },
    {
      "cell_type": "markdown",
      "id": "6f93b89b-2550-4cdb-981f-5d71d3d13fee",
      "metadata": {
        "id": "6f93b89b-2550-4cdb-981f-5d71d3d13fee"
      },
      "source": [
        "##### a. For the previous example, it's clear that \"grandmother\" completes the analogy. But give an intuitive explanation as to why the most_similar function gives us words like \"granddaughter\", \"daughter\", or \"mother?"
      ]
    },
    {
      "cell_type": "markdown",
      "id": "d4932771-c6cd-4a3a-94c8-6f2fa68a0787",
      "metadata": {
        "id": "d4932771-c6cd-4a3a-94c8-6f2fa68a0787"
      },
      "source": [
        "- <font color=\"red\">Words like \"granddaughter,\" \"daughter,\" and \"mother\" represent female family roles, which makes them contextually similar to \"grandmother.\" Simply put, these words tend to co-occur in discussions about family relationships, especially when describing female members of the family. Resulting the query to prioritize female-related terms in the output, closely aligning them with \"grandmother\" based on their shared semantic and familial context.</font>"
      ]
    },
    {
      "cell_type": "markdown",
      "id": "e528a9be-2ad3-4760-ae59-0015462742e6",
      "metadata": {
        "id": "e528a9be-2ad3-4760-ae59-0015462742e6"
      },
      "source": [
        "##### b. Find an example of analogy that holds according to these vectors (i.e. the intended word is ranked top). In your solution please state the full analogy in the form x:y :: a:b. If you believe the analogy is complicated, explain why the analogy holds in one or two sentences."
      ]
    },
    {
      "cell_type": "code",
      "execution_count": null,
      "id": "30cd6dfd-5a5d-4eed-9df0-2cc0b29c5756",
      "metadata": {
        "id": "30cd6dfd-5a5d-4eed-9df0-2cc0b29c5756",
        "outputId": "12e9f5b6-fc2b-456e-be81-a7012f551a5c"
      },
      "outputs": [
        {
          "name": "stdout",
          "output_type": "stream",
          "text": [
            "('hand', 0.5627900958061218)\n"
          ]
        }
      ],
      "source": [
        "#Test the solution.\n",
        "(x, y, a, b) = ('beanie', 'gloves', 'head', 'hand')\n",
        "pprint.pprint(wordVector_fromBin.most_similar(positive=['head', 'gloves'], negative=['beanie'])[0])\n",
        "assert wordVector_fromBin.most_similar(positive=[a, y], negative=[x])[0][0] == b"
      ]
    },
    {
      "cell_type": "markdown",
      "id": "3a345df4-ad98-457b-820e-e183f552e98a",
      "metadata": {
        "id": "3a345df4-ad98-457b-820e-e183f552e98a"
      },
      "source": [
        "- <font color=\"red\">'beanie':'gloves' :: 'head':'hand'</font>\n",
        "- <font color=\"red\">For winter clothes, we wear beanie on our head, corresponding to we wear gloves on our hand.</font>"
      ]
    },
    {
      "cell_type": "markdown",
      "id": "3a604118-1594-47e4-a729-8152a959f0ad",
      "metadata": {
        "id": "3a604118-1594-47e4-a729-8152a959f0ad"
      },
      "source": [
        "### Extra Credit"
      ]
    },
    {
      "cell_type": "markdown",
      "id": "2686a10e-34c3-410e-baaf-478595c5f357",
      "metadata": {
        "id": "2686a10e-34c3-410e-baaf-478595c5f357"
      },
      "source": [
        "#### EC 1: Guided Analysis of Bias in Word Vectors"
      ]
    },
    {
      "cell_type": "code",
      "execution_count": null,
      "id": "9bab3c6b-32ec-4dcf-8dc0-9c8c52010b1b",
      "metadata": {
        "id": "9bab3c6b-32ec-4dcf-8dc0-9c8c52010b1b",
        "outputId": "4d407f4a-4dc5-4400-c85f-76d0582aefce"
      },
      "outputs": [
        {
          "name": "stdout",
          "output_type": "stream",
          "text": [
            "[('reputation', 0.5250176787376404),\n",
            " ('professions', 0.5178037881851196),\n",
            " ('skill', 0.49046966433525085),\n",
            " ('skills', 0.49005505442619324),\n",
            " ('ethic', 0.4897659420967102),\n",
            " ('business', 0.4875852167606354),\n",
            " ('respected', 0.485920250415802),\n",
            " ('practice', 0.482104629278183),\n",
            " ('regarded', 0.4778572618961334),\n",
            " ('life', 0.4760662019252777)]\n",
            "\n",
            "[('professions', 0.5957457423210144),\n",
            " ('practitioner', 0.49884122610092163),\n",
            " ('teaching', 0.48292139172554016),\n",
            " ('nursing', 0.48211804032325745),\n",
            " ('vocation', 0.4788965880870819),\n",
            " ('teacher', 0.47160351276397705),\n",
            " ('practicing', 0.46937814354896545),\n",
            " ('educator', 0.46524327993392944),\n",
            " ('physicians', 0.4628995358943939),\n",
            " ('professionals', 0.4601394236087799)]\n"
          ]
        }
      ],
      "source": [
        "#`positive` indicates the list of words to be similar to.\n",
        "#`negative` indicates the list of words to be most dissimilar from.\n",
        "pprint.pprint(wordVector_fromBin.most_similar(positive=['man', 'profession'], negative=['woman']))\n",
        "print()\n",
        "pprint.pprint(wordVector_fromBin.most_similar(positive=['woman', 'profession'], negative=['man']))"
      ]
    },
    {
      "cell_type": "markdown",
      "id": "9a588a0f-088b-4a92-aef1-cbb5d9ee9c10",
      "metadata": {
        "id": "9a588a0f-088b-4a92-aef1-cbb5d9ee9c10"
      },
      "source": [
        "##### (a) Which terms are most similar to \"woman\" and \"profession\" and most dissimilar to \"man\"."
      ]
    },
    {
      "cell_type": "markdown",
      "id": "734bd04d-cbbd-4daf-8221-a4921d7fc819",
      "metadata": {
        "id": "734bd04d-cbbd-4daf-8221-a4921d7fc819"
      },
      "source": [
        "- <font color=\"red\">'teaching', 'nursing', 'educator', 'teacher', 'physicians'.</font>"
      ]
    },
    {
      "cell_type": "markdown",
      "id": "e48343bc-d8be-46ad-a635-d57074a6fcef",
      "metadata": {
        "id": "e48343bc-d8be-46ad-a635-d57074a6fcef"
      },
      "source": [
        "##### (b) Which terms are most similar to \"man\" and \"profession\" and most dissimilar to \"woman\"."
      ]
    },
    {
      "cell_type": "markdown",
      "id": "4151b2c7-cb44-4f72-bebb-bb509c07607b",
      "metadata": {
        "id": "4151b2c7-cb44-4f72-bebb-bb509c07607b"
      },
      "source": [
        "- <font color=\"red\">'reputation', 'business', 'respected', 'skill', 'skills'.</font>"
      ]
    },
    {
      "cell_type": "markdown",
      "id": "a387ef0a-4de7-4906-8377-48704a5fd373",
      "metadata": {
        "id": "a387ef0a-4de7-4906-8377-48704a5fd373"
      },
      "source": [
        "##### Point out the difference between the list of female-associated words and the list of male-associated words, and explain how it is reflecting gender bias."
      ]
    },
    {
      "cell_type": "markdown",
      "id": "d14ec081-6c4b-4978-b0d0-ff08da518eb7",
      "metadata": {
        "id": "d14ec081-6c4b-4978-b0d0-ff08da518eb7"
      },
      "source": [
        "- <font color=\"red\">This output clearly shows that male-associated words are skewed towards terms reflecting prestige and respect, while female-associated words emphasize roles related to nurturing and caregiving. Many of the female-associated words share similar semantic meanings, which reflects inherent gender bias in the machine learning model.<font>\n",
        "- <font color=\"red\">Detecting and addressing this bias is crucial, as machine learning algorithms are increasingly influencing social decisions. If left unchecked, these systems can replicate and perpetuate harmful stereotypes from human input data. Since technology plays such a significant role in shaping modern society, it’s essential that we diminish biases like gender inequality in our models to prevent the reinforcement of harmful patterns from human minds in machines. Addressing these issues ensures that AI and machine learning technologies contribute to fairer and more equitable social outcomes.</font>"
      ]
    },
    {
      "cell_type": "markdown",
      "id": "5daeaae2-61d7-41bb-9806-c713604e49df",
      "metadata": {
        "id": "5daeaae2-61d7-41bb-9806-c713604e49df"
      },
      "source": [
        "##### Next, use the most_similar function to find another pair of analogies that demonstrates some bias is exhibited by the vectors. Please briefly explain the example of bias that you discover."
      ]
    },
    {
      "cell_type": "code",
      "execution_count": null,
      "id": "f38b3505-a7a2-4345-a300-4c055a32e1ec",
      "metadata": {
        "id": "f38b3505-a7a2-4345-a300-4c055a32e1ec",
        "outputId": "32a0634f-dd23-47e6-e0c1-73f48ace9c71"
      },
      "outputs": [
        {
          "name": "stdout",
          "output_type": "stream",
          "text": [
            "[('sport', 0.6559334993362427),\n",
            " ('baseball', 0.6002753376960754),\n",
            " ('sporting', 0.5763919353485107),\n",
            " ('soccer', 0.5730218887329102),\n",
            " ('football', 0.5716603994369507),\n",
            " ('espn', 0.5338577628135681),\n",
            " ('entertainment', 0.5199192762374878),\n",
            " ('games', 0.5173460841178894),\n",
            " ('basketball', 0.5143382549285889),\n",
            " ('hockey', 0.4973979592323303)]\n",
            "\n",
            "[('sport', 0.6103608012199402),\n",
            " ('women', 0.5243306756019592),\n",
            " ('basketball', 0.5134516358375549),\n",
            " ('volleyball', 0.49318623542785645),\n",
            " ('soccer', 0.4838080406188965),\n",
            " ('athletes', 0.48111116886138916),\n",
            " ('athletics', 0.474430650472641),\n",
            " ('news', 0.4723058342933655),\n",
            " ('athlete', 0.46276983618736267),\n",
            " ('gymnastics', 0.4542972147464752)]\n"
          ]
        }
      ],
      "source": [
        "pprint.pprint(wordVector_fromBin.most_similar(positive=['man', 'sports'], negative=['woman']))\n",
        "print()\n",
        "pprint.pprint(wordVector_fromBin.most_similar(positive=['woman', 'sports'], negative=['man']))"
      ]
    },
    {
      "cell_type": "markdown",
      "id": "d5be48c4-e3f9-47d9-8724-6307322df59e",
      "metadata": {
        "id": "d5be48c4-e3f9-47d9-8724-6307322df59e"
      },
      "source": [
        "- <font color=\"red\">The output demonstrates that men are associated with more profitable and widely known sports, for example: 'football', 'baseball', and 'basketball'. These are sports that receive extensive media coverage and generate significant revenue.</font>\n",
        "- <font color=\"red\">On the other hand, women are linked to sports that receive less media attention or are considered more niche, such as 'volleyball' and 'gymnastics'. This reflects a gender bias in how sports are perceived and represented in society, with male-dominated sports being prioritized in terms of visibility and profitability.</font>"
      ]
    },
    {
      "cell_type": "markdown",
      "id": "6736bda7-97af-41e9-a100-76ba7993e623",
      "metadata": {
        "id": "6736bda7-97af-41e9-a100-76ba7993e623"
      },
      "source": [
        "#### EC 2: Thinking About Bias"
      ]
    },
    {
      "cell_type": "markdown",
      "id": "4dfd7f4b-0331-4ec9-9124-2f66178f1386",
      "metadata": {
        "id": "4dfd7f4b-0331-4ec9-9124-2f66178f1386"
      },
      "source": [
        "#### a. Give one explanation of how bias gets into the word vectors. Briefly describe a real-world example that demonstrates this source of bias. Your real-world example should be focused on word vectors, as opposed to bias in other AI systems (e.g., ChatGPT)."
      ]
    },
    {
      "cell_type": "markdown",
      "id": "2a6e41cf-7b5c-4a53-9d8e-bad2a0c8cbd9",
      "metadata": {
        "id": "2a6e41cf-7b5c-4a53-9d8e-bad2a0c8cbd9"
      },
      "source": [
        "- <font color=\"red\">Since word vectors are trained on large-scale, real-world human-made data, they inevitably reflect societal biases present in that data. This includes historical materials that capture the evolution of societal norms, behaviors, and stereotypes—thus introducing biases into the vectors.</font>\n",
        "- <font color=\"red\">A real-world example could be racial associations in the context of crime. For instance, black :: white. The output below shows that the white race is associated with white-collar crimes like corruption, while the black race is linked more to violent or gang-related crimes. For instance, white:corruption :: black:gang </font>\n",
        "\n",
        "- <font color=\"red\">These biases are deeply embedded in the training data due to how our society has evolved and behaved over time. While it may seem inevitable for word vectors to pick up on these patterns, it is critical to recognize and address these biases. Solutions might include techniques such as bias mitigation in word embeddings, creating balanced training datasets, or applying algorithmic fairness methods.</font>\n",
        "\n",
        "- <font color=\"red\">By doing so, we can ensure that AI systems, especially those used in sensitive areas like job applications or criminal justice systems, do not reinforce existing inequalities or make biased decisions. Recognizing and minimizing such biases is essential for building fairer, more equitable machine learning models.</font>"
      ]
    },
    {
      "cell_type": "code",
      "execution_count": null,
      "id": "0553b478-7df4-4e66-b11b-31e9c0954d5e",
      "metadata": {
        "id": "0553b478-7df4-4e66-b11b-31e9c0954d5e",
        "outputId": "676f07d8-063e-4a2e-9727-b19f02587aa0"
      },
      "outputs": [
        {
          "name": "stdout",
          "output_type": "stream",
          "text": [
            "[('criminal', 0.6426590085029602),\n",
            " ('crimes', 0.6286289691925049),\n",
            " ('terrorism', 0.5987681150436401),\n",
            " ('dealing', 0.5486330986022949),\n",
            " ('enforcement', 0.5384438633918762),\n",
            " ('corruption', 0.536178708076477),\n",
            " ('fbi', 0.5332545638084412),\n",
            " ('criminals', 0.5239221453666687),\n",
            " ('trafficking', 0.5194993019104004),\n",
            " ('murder', 0.5187350511550903)]\n",
            "\n",
            "[('criminal', 0.5824968814849854),\n",
            " ('murder', 0.5666751861572266),\n",
            " ('trafficking', 0.5633336305618286),\n",
            " ('crimes', 0.5512769222259521),\n",
            " ('murders', 0.5351517200469971),\n",
            " ('gangs', 0.5348795652389526),\n",
            " ('gang', 0.5202505588531494),\n",
            " ('homicide', 0.515967607498169),\n",
            " ('violent', 0.5078491568565369),\n",
            " ('criminals', 0.5074379444122314)]\n"
          ]
        }
      ],
      "source": [
        "pprint.pprint(wordVector_fromBin.most_similar(positive=['white', 'crime'], negative=['black']))\n",
        "print()\n",
        "pprint.pprint(wordVector_fromBin.most_similar(positive=['black', 'crime'], negative=['white']))"
      ]
    },
    {
      "cell_type": "markdown",
      "id": "66601297-752f-483b-bf68-f517956b0165",
      "metadata": {
        "id": "66601297-752f-483b-bf68-f517956b0165"
      },
      "source": [
        "#### b. What is one method you can use to mitigate bias exhibited by word vectors? Briefly describe a real-world example that demonstrates this method."
      ]
    },
    {
      "cell_type": "markdown",
      "id": "0fd68625-a251-4405-bd86-acb499078e3e",
      "metadata": {
        "id": "0fd68625-a251-4405-bd86-acb499078e3e"
      },
      "source": [
        "##### Citation:\n",
        "Papakyriakopoulos, O., Hegelich, S., Serrano, J. C. M., & Marco, F. (2020, January). Bias in word embeddings. In Proceedings of the 2020 conference on fairness, accountability, and transparency (pp. 446-457)."
      ]
    },
    {
      "cell_type": "markdown",
      "id": "4355382c-9b13-42b0-83c6-7e6b6da7b432",
      "metadata": {
        "id": "4355382c-9b13-42b0-83c6-7e6b6da7b432"
      },
      "source": [
        "##### <font color=\"red\">The studies explores two ways to reduce bias in word vectors.</font>\n",
        "- <font color=\"red\">The first method - debiasing word embeddings - adjusts word embeddings to make neutral words (like names) less biased by making them unrelated to positive or negative sentiment.</font>\n",
        "- <font color=\"red\">The second method - adjusting the classifier's decision boundary - so that it doesn't rely on biased word relationships when making predictions.</font>\n",
        "- <font color=\"red\">Overall, the classifier-level correction proved to be more effective than embedding-level debiasing, as it accounts for more complex relationships learned during training.</font>"
      ]
    }
  ],
  "metadata": {
    "kernelspec": {
      "display_name": "Python 3 (ipykernel)",
      "language": "python",
      "name": "python3"
    },
    "language_info": {
      "codemirror_mode": {
        "name": "ipython",
        "version": 3
      },
      "file_extension": ".py",
      "mimetype": "text/x-python",
      "name": "python",
      "nbconvert_exporter": "python",
      "pygments_lexer": "ipython3",
      "version": "3.9.13"
    },
    "colab": {
      "provenance": []
    }
  },
  "nbformat": 4,
  "nbformat_minor": 5
}
